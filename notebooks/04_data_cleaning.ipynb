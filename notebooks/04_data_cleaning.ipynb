{
 "cells": [
  {
   "attachments": {},
   "cell_type": "markdown",
   "metadata": {},
   "source": [
    "# DATA CLEANING"
   ]
  },
  {
   "cell_type": "code",
   "execution_count": 1,
   "metadata": {},
   "outputs": [],
   "source": [
    "import pandas as pd\n",
    "import numpy as np\n",
    "import matplotlib.pyplot as plt\n",
    "import seaborn as sns\n",
    "sns.set_style('darkgrid')\n",
    "%matplotlib inline"
   ]
  },
  {
   "attachments": {},
   "cell_type": "markdown",
   "metadata": {},
   "source": [
    "### HELPER FUNCTION FOR PLOTTING"
   ]
  },
  {
   "cell_type": "code",
   "execution_count": 2,
   "metadata": {},
   "outputs": [],
   "source": [
    "def plot_scatterplots(df, columns, x_label):\n",
    "    \"\"\"Plot scatterplots of the given columns against the x_label.\n",
    "    \n",
    "    Parameters\n",
    "    ----------\n",
    "    df : pandas.DataFrame\n",
    "        The DataFrame to plot.\n",
    "    columns : list\n",
    "        The columns to plot.\n",
    "    x_label : str\n",
    "        The column to plot on the x-axis.\n",
    "        \"\"\"\n",
    "    nb_rows = len(columns)\n",
    "    height = 4 * nb_rows\n",
    "    fig, axes = plt.subplots(nb_rows, 2, figsize=(16, height))\n",
    "    colors = ['royalblue', 'dodgerblue', 'cornflowerblue', 'skyblue', 'lightsteelblue', 'lightblue', 'lightskyblue', 'powderblue']\n",
    "    i = 0 \n",
    "\n",
    "    for column in columns:\n",
    "        x_label_fmt = x_label.replace('_', ' ').title()\n",
    "        y_label_fmt = column.replace('_', ' ').title()\n",
    "\n",
    "        axes = axes.flatten()\n",
    "        ax1 = axes[i//2*2]\n",
    "        sns.scatterplot(x=df[x_label], y=df[column], color=colors[i//2], alpha=0.5, ax=ax1)\n",
    "        sns.regplot(x=df[x_label], y=df[column], color=colors[i//2], scatter=True, ax=ax1)\n",
    "        ax1.set_xlabel(x_label_fmt, fontsize=8)\n",
    "        ax1.set_ylabel(y_label_fmt, fontsize=8)\n",
    "        ax1.set_title(f'{y_label_fmt} as a Function of {x_label_fmt} in Linear Scale', fontsize=9)\n",
    "        ax1.set_xscale('linear')\n",
    "        ax1.set_yscale('linear')\n",
    "        \n",
    "        ax2 = axes[i//2*2+(i+1)%2]\n",
    "        sns.scatterplot(x=df[x_label], y=df[column], color=colors[i//2], alpha=0.5, ax=ax2)\n",
    "        ax2.set_xlabel(x_label_fmt, fontsize=8)\n",
    "        ax2.set_ylabel(y_label_fmt, fontsize=8)\n",
    "        ax2.set_title(f'{y_label_fmt} as a Function of {x_label_fmt} in Log Scale', fontsize=9)\n",
    "        ax2.set_xscale('log')\n",
    "        ax2.set_yscale('log')\n",
    "        \n",
    "        i += 2\n",
    "    plt.tight_layout()\n",
    "    plt.show()"
   ]
  },
  {
   "cell_type": "code",
   "execution_count": 3,
   "metadata": {},
   "outputs": [],
   "source": [
    "def engagement_visu_pipeline(path, threshold=1e2):\n",
    "    df = pd.read_parquet(path, engine='pyarrow')\n",
    "\n",
    "    # Parse the date column to datetime\n",
    "    df['created_at'] = pd.to_datetime(df['created_at'])\n",
    "    display(df.head())\n",
    "\n",
    "    # Split the dataset into two: one with impression_count >= threshold and one with impression_count < threshold\n",
    "    # There is a significant difference in the distribution of the impression_count between the two datasets\n",
    "    df_big = df[df[\"impression_count\"] >= threshold]\n",
    "    df_small = df[df[\"impression_count\"] < threshold]\n",
    "    print(f\"Number of rows with impression_count >= {threshold}: {df_big.shape[0]}\")\n",
    "    print(f\"Number of rows with impression_count < {threshold}: {df_small.shape[0]}\")\n",
    "    \n",
    "    # Plot the scatterplots of the engagement counts against impression count\n",
    "    columns = ['retweet_count', 'reply_count', 'like_count', 'quote_count']\n",
    "    print(\"\\033[1;34;5m\" + f\"Scatterplots of the engagement counts against impression count for impression_count < {threshold}\" + \"\\033[0m\")\n",
    "    plot_scatterplots(df_small, columns, 'impression_count')\n",
    "\n",
    "    print(\"\\033[1;34;5m\" + f\"Scatterplots of the engagement counts against impression count for impression_count >= {threshold}\" + \"\\033[0m\")\n",
    "    plot_scatterplots(df_big, columns, 'impression_count')\n",
    "\n",
    "    # Plot the scatterplots of the impression counts against follower counts\n",
    "    # Plot the scatterplots of the impression counts against follower counts\n",
    "    columns = ['impression_count']\n",
    "    print(\"\\033[1;34;5m\" + f\"Scatterplots of the impression counts against follower count for impression_count < {threshold}\" + \"\\033[0m\")\n",
    "    plot_scatterplots(df_small, columns, 'followers_count')\n",
    "\n",
    "    print(\"\\033[1;34;5m\" + f\"Scatterplots of the impression counts against follower count for impression_count >= {threshold}\" + \"\\033[0m\")\n",
    "    plot_scatterplots(df_big, columns, 'followers_count')"
   ]
  },
  {
   "attachments": {},
   "cell_type": "markdown",
   "metadata": {},
   "source": [
    "## AMERICAN POLITICIANS"
   ]
  },
  {
   "cell_type": "code",
   "execution_count": 4,
   "metadata": {},
   "outputs": [
    {
     "data": {
      "text/html": [
       "<div>\n",
       "<style scoped>\n",
       "    .dataframe tbody tr th:only-of-type {\n",
       "        vertical-align: middle;\n",
       "    }\n",
       "\n",
       "    .dataframe tbody tr th {\n",
       "        vertical-align: top;\n",
       "    }\n",
       "\n",
       "    .dataframe thead th {\n",
       "        text-align: right;\n",
       "    }\n",
       "</style>\n",
       "<table border=\"1\" class=\"dataframe\">\n",
       "  <thead>\n",
       "    <tr style=\"text-align: right;\">\n",
       "      <th></th>\n",
       "      <th>author_id</th>\n",
       "      <th>id</th>\n",
       "      <th>created_at</th>\n",
       "      <th>retweet_count</th>\n",
       "      <th>reply_count</th>\n",
       "      <th>like_count</th>\n",
       "      <th>quote_count</th>\n",
       "      <th>impression_count</th>\n",
       "      <th>followers_count</th>\n",
       "      <th>following_count</th>\n",
       "      <th>tweet_count</th>\n",
       "      <th>listed_count</th>\n",
       "    </tr>\n",
       "  </thead>\n",
       "  <tbody>\n",
       "    <tr>\n",
       "      <th>0</th>\n",
       "      <td>914815520842616834</td>\n",
       "      <td>1629913861737283585</td>\n",
       "      <td>2023-02-26 18:38:41+00:00</td>\n",
       "      <td>0</td>\n",
       "      <td>4</td>\n",
       "      <td>19</td>\n",
       "      <td>0</td>\n",
       "      <td>3446</td>\n",
       "      <td>97107</td>\n",
       "      <td>2211</td>\n",
       "      <td>6854</td>\n",
       "      <td>504</td>\n",
       "    </tr>\n",
       "    <tr>\n",
       "      <th>1</th>\n",
       "      <td>914815520842616834</td>\n",
       "      <td>1629913861737283585</td>\n",
       "      <td>2023-02-26 18:38:41+00:00</td>\n",
       "      <td>0</td>\n",
       "      <td>4</td>\n",
       "      <td>19</td>\n",
       "      <td>0</td>\n",
       "      <td>3446</td>\n",
       "      <td>97107</td>\n",
       "      <td>2211</td>\n",
       "      <td>6854</td>\n",
       "      <td>504</td>\n",
       "    </tr>\n",
       "    <tr>\n",
       "      <th>2</th>\n",
       "      <td>914815520842616834</td>\n",
       "      <td>1629913861737283585</td>\n",
       "      <td>2023-02-26 18:38:41+00:00</td>\n",
       "      <td>0</td>\n",
       "      <td>4</td>\n",
       "      <td>19</td>\n",
       "      <td>0</td>\n",
       "      <td>3446</td>\n",
       "      <td>97095</td>\n",
       "      <td>2211</td>\n",
       "      <td>6854</td>\n",
       "      <td>504</td>\n",
       "    </tr>\n",
       "    <tr>\n",
       "      <th>3</th>\n",
       "      <td>914815520842616834</td>\n",
       "      <td>1629913861737283585</td>\n",
       "      <td>2023-02-26 18:38:41+00:00</td>\n",
       "      <td>0</td>\n",
       "      <td>4</td>\n",
       "      <td>19</td>\n",
       "      <td>0</td>\n",
       "      <td>3446</td>\n",
       "      <td>97095</td>\n",
       "      <td>2211</td>\n",
       "      <td>6854</td>\n",
       "      <td>504</td>\n",
       "    </tr>\n",
       "    <tr>\n",
       "      <th>4</th>\n",
       "      <td>914815520842616834</td>\n",
       "      <td>1629304017087090689</td>\n",
       "      <td>2023-02-25 02:15:23+00:00</td>\n",
       "      <td>4</td>\n",
       "      <td>22</td>\n",
       "      <td>165</td>\n",
       "      <td>0</td>\n",
       "      <td>17557</td>\n",
       "      <td>97107</td>\n",
       "      <td>2211</td>\n",
       "      <td>6854</td>\n",
       "      <td>504</td>\n",
       "    </tr>\n",
       "  </tbody>\n",
       "</table>\n",
       "</div>"
      ],
      "text/plain": [
       "            author_id                   id                created_at  \\\n",
       "0  914815520842616834  1629913861737283585 2023-02-26 18:38:41+00:00   \n",
       "1  914815520842616834  1629913861737283585 2023-02-26 18:38:41+00:00   \n",
       "2  914815520842616834  1629913861737283585 2023-02-26 18:38:41+00:00   \n",
       "3  914815520842616834  1629913861737283585 2023-02-26 18:38:41+00:00   \n",
       "4  914815520842616834  1629304017087090689 2023-02-25 02:15:23+00:00   \n",
       "\n",
       "   retweet_count  reply_count  like_count  quote_count  impression_count  \\\n",
       "0              0            4          19            0              3446   \n",
       "1              0            4          19            0              3446   \n",
       "2              0            4          19            0              3446   \n",
       "3              0            4          19            0              3446   \n",
       "4              4           22         165            0             17557   \n",
       "\n",
       "   followers_count  following_count  tweet_count  listed_count  \n",
       "0            97107             2211         6854           504  \n",
       "1            97107             2211         6854           504  \n",
       "2            97095             2211         6854           504  \n",
       "3            97095             2211         6854           504  \n",
       "4            97107             2211         6854           504  "
      ]
     },
     "metadata": {},
     "output_type": "display_data"
    },
    {
     "name": "stdout",
     "output_type": "stream",
     "text": [
      "Number of rows with impression_count >= 100.0: 291680\n",
      "Number of rows with impression_count < 100.0: 73922\n",
      "\u001b[1;34;5mScatterplots of the engagement counts against impression count for impression_count < 100.0\u001b[0m\n"
     ]
    }
   ],
   "source": [
    "path_us_politicians = '../data/american_politicians/parquet/'\n",
    "\n",
    "# Call the function to plot the scatterplots of the engagement metrics\n",
    "engagement_visu_pipeline(path_us_politicians)"
   ]
  },
  {
   "attachments": {},
   "cell_type": "markdown",
   "metadata": {},
   "source": [
    "## AMERICAN CELEBRITIES"
   ]
  },
  {
   "cell_type": "code",
   "execution_count": null,
   "metadata": {},
   "outputs": [],
   "source": [
    "path_us_celebrities = '../data/american_celebrities/parquet/'\n",
    "\n",
    "# Call the function to plot the scatterplots of the engagement metrics\n",
    "engagement_visu_pipeline(path_us_celebrities, threshold=1e2)"
   ]
  },
  {
   "attachments": {},
   "cell_type": "markdown",
   "metadata": {},
   "source": [
    "## FRENCH POLITICIANS"
   ]
  },
  {
   "cell_type": "code",
   "execution_count": null,
   "metadata": {},
   "outputs": [],
   "source": [
    "path_french_celebrities = '../data/french_celebrities/parquet/'\n",
    "\n",
    "# Call the function to plot the scatterplots of the engagement metrics\n",
    "engagement_visu_pipeline(path_french_celebrities, threshold=1.5e1)"
   ]
  },
  {
   "attachments": {},
   "cell_type": "markdown",
   "metadata": {},
   "source": [
    "## FRENCH CELEBRITIES"
   ]
  },
  {
   "cell_type": "code",
   "execution_count": null,
   "metadata": {},
   "outputs": [],
   "source": [
    "path_french_celebrities = '../data/french_celebrities/parquet/'\n",
    "\n",
    "# Call the function to plot the scatterplots of the engagement metrics\n",
    "engagement_visu_pipeline(path_french_celebrities, threshold=1.5e2)"
   ]
  },
  {
   "attachments": {},
   "cell_type": "markdown",
   "metadata": {},
   "source": [
    "### GET FEATURES FROM DATAFRAME"
   ]
  },
  {
   "attachments": {},
   "cell_type": "markdown",
   "metadata": {},
   "source": [
    "Tweet info:\n",
    "- Tweet length  ✅\n",
    "- Time of the tweet (morning, afternoon, night) ✅\n",
    "- Sentiment of the tweet (score computed by model) ✅\n",
    "- Number of hashtags ✅\n",
    "- Number of mentions ✅\n",
    "- Number of url's ✅\n",
    "- Media type (video, image, text,..) => attention c un tableau\n",
    "- (To clarify: location) 🚧\n",
    "\n",
    "User info:\n",
    "- Verified ✅\n",
    "- Profile creation date ✅\n",
    "- (To clarify: Tweet frequency) 🚧"
   ]
  }
 ],
 "metadata": {
  "kernelspec": {
   "display_name": "Python 3",
   "language": "python",
   "name": "python3"
  },
  "language_info": {
   "codemirror_mode": {
    "name": "ipython",
    "version": 3
   },
   "file_extension": ".py",
   "mimetype": "text/x-python",
   "name": "python",
   "nbconvert_exporter": "python",
   "pygments_lexer": "ipython3",
   "version": "3.9.15"
  },
  "orig_nbformat": 4
 },
 "nbformat": 4,
 "nbformat_minor": 2
}
