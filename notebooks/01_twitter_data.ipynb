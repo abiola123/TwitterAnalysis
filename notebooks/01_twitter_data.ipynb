{
 "cells": [
  {
   "attachments": {},
   "cell_type": "markdown",
   "id": "1432135d",
   "metadata": {},
   "source": [
    "<h1 align=\"center\"> LSIR LAB - SEMESTER PROJECT</h1> \n",
    "\n",
    "**Students:**\n",
    "- Etienne BRUNO\n",
    "- Abiola ADEYE"
   ]
  },
  {
   "cell_type": "code",
   "execution_count": null,
   "id": "62bd4e82",
   "metadata": {},
   "outputs": [],
   "source": [
    "%pip install twarc\n",
    "%pip install tweepy"
   ]
  },
  {
   "cell_type": "code",
   "execution_count": null,
   "id": "a85b747e",
   "metadata": {},
   "outputs": [],
   "source": [
    "# Token Twitter\n",
    "TWITTER_API_BEARER_TOKEN = \"AAAAAAAAAAAAAAAAAAAAAAnvhgEAAAAAKUkIqyVUmYKx8L%2BzRUNFQNL0BDY%3DjhM75GY8wteGdEZVbOTcqI4zVaIPErQn06ruexAWYtn61JrDeU\""
   ]
  },
  {
   "cell_type": "code",
   "execution_count": null,
   "id": "c7a64aa6",
   "metadata": {},
   "outputs": [],
   "source": [
    "import pandas as pd\n",
    "\n",
    "# Load the data\n",
    "df = pd.read_csv('data/french_politicians/profiles_annotations.tab', sep='\\t')\n",
    "\n",
    "# Drop all columns except the first one\n",
    "df = df.iloc[:,0]\n",
    "\n",
    "# Save as csv file\n",
    "df.to_csv('data/french/users_ids.csv', index=False)"
   ]
  }
 ],
 "metadata": {
  "kernelspec": {
   "display_name": "Python 3.9.15 ('base')",
   "language": "python",
   "name": "python3"
  },
  "language_info": {
   "codemirror_mode": {
    "name": "ipython",
    "version": 3
   },
   "file_extension": ".py",
   "mimetype": "text/x-python",
   "name": "python",
   "nbconvert_exporter": "python",
   "pygments_lexer": "ipython3",
   "version": "3.9.15"
  },
  "vscode": {
   "interpreter": {
    "hash": "b0cc462c96df3621bcc58e01fadcdf9264a069c5c4bbf07201077bb349d3c6bf"
   }
  }
 },
 "nbformat": 4,
 "nbformat_minor": 5
}
