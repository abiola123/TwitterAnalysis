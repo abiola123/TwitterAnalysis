{
 "cells": [
  {
   "cell_type": "code",
   "execution_count": 1,
   "metadata": {},
   "outputs": [],
   "source": [
    "import argparse\n",
    "from datetime import datetime\n",
    "from vaderSentiment.vaderSentiment import SentimentIntensityAnalyzer\n",
    "from pyspark.sql import SparkSession\n",
    "import re\n",
    "from pyspark.conf import SparkConf"
   ]
  },
  {
   "cell_type": "code",
   "execution_count": 2,
   "metadata": {},
   "outputs": [],
   "source": [
    "\n",
    "\n",
    "# Load data from json file and return RDD\n",
    "def load_data_set(spark, path):\n",
    "    print(\"**Loading data from json file**\")\n",
    "    df = spark.read.json(path)\n",
    "    print(\"Schema written to file\\n\")\n",
    "    print(df.schema, file=open(\"schema\", \"a\"))\n",
    "    return df.rdd\n",
    "\n",
    "\n",
    "def get_most_frequent_annotations(rdd, threshold, max_length= 9):\n",
    "    print(\"**Getting most frequent annotations** \\n\")\n",
    "    annotations = (\n",
    "        rdd.flatMap(lambda x: x[\"data\"])\n",
    "        .map(lambda x: x[\"context_annotations\"])\n",
    "        .filter(lambda x: x is not None)\n",
    "        .flatMap(lambda x: list(set([y[\"entity\"][\"name\"] for y in x])))\n",
    "        .map(lambda x: (x, 1))\n",
    "        .reduceByKey(lambda x, y: x + y)\n",
    "        .sortBy(lambda x: x[1], ascending=False)\n",
    "    )\n",
    "\n",
    "    most_frequent_annotations = annotations.filter(lambda x: x[1] > threshold).collect()\n",
    "\n",
    "    # remove the first one which is 'Politics' (present in nearly all tweets)\n",
    "    # TODO: check if this is also the case for celebrities\n",
    "    most_frequent_annotations = list(map(lambda x: x[0], most_frequent_annotations))[1:max_length]\n",
    "\n",
    "    annotation_dict = {\n",
    "        annotation: index for index, annotation in enumerate(most_frequent_annotations)\n",
    "    }\n",
    "\n",
    "    return most_frequent_annotations, annotation_dict\n",
    "\n",
    "\n",
    "def extract_relevant_fields(rdd):\n",
    "    return (\n",
    "        rdd.filter(lambda x: x[\"data\"])\n",
    "        .flatMap(lambda x: x[\"data\"])\n",
    "        .filter(lambda x: x[\"entities\"])\n",
    "        .filter(lambda x: x[\"context_annotations\"] is not None)\n",
    "        .map(\n",
    "            lambda x: {\n",
    "                \"tweet_text\": x[\"text\"],\n",
    "                \"tweet_date\": x[\"created_at\"],\n",
    "                \"tweet_hashtags\": x[\"entities\"][\"hashtags\"],\n",
    "                \"tweet_mentions\": x[\"entities\"][\"mentions\"],\n",
    "                \"tweet_urls\": x[\"entities\"][\"urls\"],\n",
    "                \"user_id\": x[\"author_id\"],\n",
    "                \"tweet_id\": x[\"id\"],\n",
    "                \"context_annotations\": x[\"context_annotations\"],\n",
    "                \"impression_count\": x[\"public_metrics\"][\"impression_count\"],\n",
    "            }\n",
    "        )\n",
    "    )\n",
    "\n"
   ]
  },
  {
   "cell_type": "code",
   "execution_count": 3,
   "metadata": {},
   "outputs": [],
   "source": [
    "from pyspark.sql.types import StringType, IntegerType, ArrayType, StructType, StructField, TimestampType\n",
    "\n",
    "from pyspark.sql.functions import udf\n",
    "\n",
    "from transformers import pipeline\n",
    "\n"
   ]
  },
  {
   "cell_type": "code",
   "execution_count": 4,
   "metadata": {},
   "outputs": [],
   "source": [
    "\n",
    "def apply_processing_pipeline(\n",
    "    json_rdd,\n",
    "    json_rdd_data_fields,\n",
    "    most_frequent_annotations,\n",
    "    annotation_dict,\n",
    "    output_name,\n",
    "    zero_shot_classification\n",
    "):\n",
    "    \n",
    "\n",
    "    \n",
    "\n",
    "    def group_context_annotations(x, most_frequent_annotations, annotation_dict):\n",
    "        # first we see if the annotations of our tweet and the most frequent annotations overlap\n",
    "        annotation_set = set([y[\"entity\"][\"name\"] for y in x[\"context_annotations\"]])\n",
    "\n",
    "        \n",
    "\n",
    "        intersection = annotation_set.intersection(most_frequent_annotations)\n",
    "\n",
    "        if len(intersection) > 0:\n",
    "            x['context_annotations'] = list(intersection)\n",
    "\n",
    "        else:\n",
    "            # zero shot here \n",
    "\n",
    "            prepared_text = \" \".join(annotation_set)\n",
    "\n",
    "            zero_shot_labels = zero_shot_classification(prepared_text, most_frequent_annotations)\n",
    "\n",
    "            # print(zero_shot_labels)\n",
    "\n",
    "            x['context_annotations'] = zero_shot_labels\n",
    "\n",
    "                    \n",
    "        return x \n",
    "   \n",
    "\n",
    "    json_rdd_data_fields = json_rdd_data_fields.map(lambda x: group_context_annotations(x, most_frequent_annotations, annotation_dict))\n",
    "\n",
    "    return json_rdd_data_fields\n"
   ]
  },
  {
   "cell_type": "code",
   "execution_count": 5,
   "metadata": {},
   "outputs": [],
   "source": [
    "def pre_processing_pipeline(path, output_name, workers, annotation_threshold):\n",
    "    spark = (\n",
    "        SparkSession.builder.appName(\"tweet_loader\")\n",
    "        .master(f\"local[{workers}]\")\n",
    "        .config(\"spark.driver.memory\", \"15g\")\n",
    "        .getOrCreate()\n",
    "    )\n",
    "\n",
    "    print(\"**SparkContext created**\")\n",
    "    print(f\"GUI: {spark.sparkContext.uiWebUrl}\")\n",
    "    print(f\"AppName: {spark.sparkContext.appName}\\n\")\n",
    "\n",
    "    rdd = load_data_set(spark, path)\n",
    "\n",
    "    most_frequent_annotations, annotation_dict = get_most_frequent_annotations(\n",
    "        rdd, annotation_threshold\n",
    "    )\n",
    "\n",
    "    print(f\"Most frequent annotations: {most_frequent_annotations}\\n\")\n",
    "\n",
    "    print(f\"Annotation dictionary: {annotation_dict}\\n\")\n",
    "\n",
    "    rdd_subset = extract_relevant_fields(rdd)\n",
    "\n",
    "    pipe =  spark.sparkContext.broadcast(pipeline(model=\"valhalla/distilbart-mnli-12-9\"))\n",
    "\n",
    "    def zero_shot_classification(text, labels):\n",
    "        resp =  pipe.value(text, labels, multi_label=False)\n",
    "\n",
    "        labels_scores = zip(resp['labels'],resp['scores'])\n",
    "\n",
    "        labels_scores = filter(lambda x: x[1] > 0.3, labels_scores)\n",
    "\n",
    "        predicted_labels = list(map(lambda x: x[0], labels_scores))\n",
    "\n",
    "        if len(predicted_labels) > 0:\n",
    "            return predicted_labels\n",
    "        else:\n",
    "            return [resp['labels'][0]]\n",
    "\n",
    "    regression_df = apply_processing_pipeline(\n",
    "        rdd, rdd_subset, most_frequent_annotations, annotation_dict, output_name, zero_shot_classification\n",
    "    )\n",
    "\n",
    "    return regression_df\n",
    "\n"
   ]
  },
  {
   "cell_type": "code",
   "execution_count": 6,
   "metadata": {},
   "outputs": [
    {
     "name": "stderr",
     "output_type": "stream",
     "text": [
      "Setting default log level to \"WARN\".\n",
      "To adjust logging level use sc.setLogLevel(newLevel). For SparkR, use setLogLevel(newLevel).\n"
     ]
    },
    {
     "name": "stdout",
     "output_type": "stream",
     "text": [
      "23/05/25 11:30:19 WARN NativeCodeLoader: Unable to load native-hadoop library for your platform... using builtin-java classes where applicable\n",
      "**SparkContext created**\n",
      "GUI: http://tsf-428-wpa-1-215.epfl.ch:4040\n",
      "AppName: tweet_loader\n",
      "\n",
      "**Loading data from json file**\n"
     ]
    },
    {
     "name": "stderr",
     "output_type": "stream",
     "text": [
      "                                                                                \r"
     ]
    },
    {
     "name": "stdout",
     "output_type": "stream",
     "text": [
      "Schema written to file\n",
      "\n",
      "**Getting most frequent annotations** \n",
      "\n"
     ]
    },
    {
     "name": "stderr",
     "output_type": "stream",
     "text": [
      "                                                                                \r"
     ]
    },
    {
     "name": "stdout",
     "output_type": "stream",
     "text": [
      "Most frequent annotations: ['Sports', 'Entertainment & Leisure Business', 'Basketball', 'NBA', 'NBA Basketball', 'Music', 'NBA players', 'Politics']\n",
      "\n",
      "Annotation dictionary: {'Sports': 0, 'Entertainment & Leisure Business': 1, 'Basketball': 2, 'NBA': 3, 'NBA Basketball': 4, 'Music': 5, 'NBA players': 6, 'Politics': 7}\n",
      "\n"
     ]
    }
   ],
   "source": [
    "pre_processing_pipeline(\"../data/american_celebrities/tweets.jsonl\", \"test\", 8, 1000).take(500)\n",
    "\n",
    "# starts ~25s"
   ]
  },
  {
   "cell_type": "code",
   "execution_count": null,
   "metadata": {},
   "outputs": [],
   "source": []
  }
 ],
 "metadata": {
  "kernelspec": {
   "display_name": "base",
   "language": "python",
   "name": "python3"
  },
  "language_info": {
   "codemirror_mode": {
    "name": "ipython",
    "version": 3
   },
   "file_extension": ".py",
   "mimetype": "text/x-python",
   "name": "python",
   "nbconvert_exporter": "python",
   "pygments_lexer": "ipython3",
   "version": "3.9.15"
  },
  "orig_nbformat": 4
 },
 "nbformat": 4,
 "nbformat_minor": 2
}
