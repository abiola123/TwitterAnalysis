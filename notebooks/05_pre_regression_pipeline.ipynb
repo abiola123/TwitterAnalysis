{
 "cells": [
  {
   "cell_type": "code",
   "execution_count": 1,
   "metadata": {},
   "outputs": [],
   "source": [
    "import argparse\n",
    "from datetime import datetime\n",
    "from vaderSentiment.vaderSentiment import SentimentIntensityAnalyzer\n",
    "from pyspark.sql import SparkSession\n",
    "import re\n",
    "from pyspark.conf import SparkConf"
   ]
  },
  {
   "cell_type": "code",
   "execution_count": 2,
   "metadata": {},
   "outputs": [],
   "source": [
    "\n",
    "\n",
    "# Load data from json file and return RDD\n",
    "def load_data_set(spark, path):\n",
    "    print(\"**Loading data from json file**\")\n",
    "    df = spark.read.json(path)\n",
    "    print(\"Schema written to file\\n\")\n",
    "    print(df.schema, file=open(\"schema\", \"a\"))\n",
    "    return df.rdd\n",
    "\n",
    "\n",
    "def get_most_frequent_annotations(rdd, threshold):\n",
    "    print(\"**Getting most frequent annotations** \\n\")\n",
    "    annotations = (\n",
    "        rdd.flatMap(lambda x: x[\"data\"])\n",
    "        .map(lambda x: x[\"context_annotations\"])\n",
    "        .filter(lambda x: x is not None)\n",
    "        .flatMap(lambda x: list(set([y[\"entity\"][\"name\"] for y in x])))\n",
    "        .map(lambda x: (x, 1))\n",
    "        .reduceByKey(lambda x, y: x + y)\n",
    "        .sortBy(lambda x: x[1], ascending=False)\n",
    "    )\n",
    "\n",
    "    most_frequent_annotations = annotations.take(threshold)\n",
    "\n",
    "    # remove the first one which is 'Politics' (present in nearly all tweets)\n",
    "    # TODO: check if this is also the case for celebrities\n",
    "    most_frequent_annotations = list(map(lambda x: x[0], most_frequent_annotations))\n",
    "\n",
    "    annotation_dict = {\n",
    "        annotation: index for index, annotation in enumerate(most_frequent_annotations)\n",
    "    }\n",
    "\n",
    "    return most_frequent_annotations, annotation_dict\n",
    "\n",
    "\n",
    "def extract_relevant_fields(rdd):\n",
    "    return (\n",
    "        rdd.filter(lambda x: x[\"data\"])\n",
    "        .flatMap(lambda x: x[\"data\"])\n",
    "        .filter(lambda x: x[\"entities\"])\n",
    "        .filter(lambda x: x[\"context_annotations\"] is not None)\n",
    "        .map(\n",
    "            lambda x: {\n",
    "                \"tweet_text\": x[\"text\"],\n",
    "                \"tweet_date\": x[\"created_at\"],\n",
    "                \"tweet_hashtags\": x[\"entities\"][\"hashtags\"],\n",
    "                \"tweet_mentions\": x[\"entities\"][\"mentions\"],\n",
    "                \"tweet_urls\": x[\"entities\"][\"urls\"],\n",
    "                \"user_id\": x[\"author_id\"],\n",
    "                \"tweet_id\": x[\"id\"],\n",
    "                \"context_annotations\": x[\"context_annotations\"],\n",
    "                \"impression_count\": x[\"public_metrics\"][\"impression_count\"],\n",
    "            }\n",
    "        )\n",
    "    )\n",
    "\n"
   ]
  },
  {
   "cell_type": "code",
   "execution_count": 3,
   "metadata": {},
   "outputs": [],
   "source": [
    "from pyspark.sql.types import StringType, IntegerType, ArrayType, StructType, StructField, TimestampType\n",
    "\n",
    "from pyspark.sql.functions import udf\n",
    "\n",
    "from transformers import pipeline\n",
    "\n"
   ]
  },
  {
   "cell_type": "code",
   "execution_count": 4,
   "metadata": {},
   "outputs": [],
   "source": [
    "\n",
    "def apply_processing_pipeline(\n",
    "    json_rdd,\n",
    "    json_rdd_data_fields,\n",
    "    most_frequent_annotations,\n",
    "    annotation_dict,\n",
    "    output_name,\n",
    "    zero_shot_classification,\n",
    "    path\n",
    "):\n",
    "    \n",
    "\n",
    "    \n",
    "\n",
    "    def group_context_annotations(x, most_frequent_annotations, annotation_dict):\n",
    "        # first we see if the annotations of our tweet and the most frequent annotations overlap\n",
    "        annotation_set = set([y[\"entity\"][\"name\"] for y in x[\"context_annotations\"]])\n",
    "\n",
    "        \n",
    "\n",
    "        intersection = annotation_set.intersection(most_frequent_annotations)\n",
    "\n",
    "        if len(intersection) > 0:\n",
    "            x['context_annotations'] = list(intersection)\n",
    "\n",
    "        else:\n",
    "            # zero shot here \n",
    "\n",
    "            prepared_text = \" \".join(annotation_set)\n",
    "\n",
    "            zero_shot_labels = zero_shot_classification(prepared_text, most_frequent_annotations)\n",
    "\n",
    "            x['context_annotations'] = zero_shot_labels\n",
    "                    \n",
    "        return x \n",
    "   \n",
    "\n",
    "    json_rdd_data_fields = json_rdd_data_fields.map(lambda x: group_context_annotations(x, most_frequent_annotations, annotation_dict))\n",
    "\n",
    "    # write jsonn rdd with mappped context annotations to jsonl (since this is the most time consuming task)\n",
    "\n",
    "    new_path = \"/\".join(path.split(\"/\")[:-1]) + \"/tweet_with_mapped_annotations\"\n",
    "\n",
    "    print(new_path)\n",
    "\n",
    "    json_rdd_data_fields.saveAsTextFile(new_path)\n",
    "\n",
    "    return json_rdd_data_fields\n"
   ]
  },
  {
   "cell_type": "code",
   "execution_count": 5,
   "metadata": {},
   "outputs": [],
   "source": [
    "def pre_processing_pipeline(path, output_name, workers, annotation_threshold):\n",
    "    spark = (\n",
    "        SparkSession.builder.appName(\"tweet_loader\")\n",
    "        .master(f\"local[{workers}]\")\n",
    "        .config(\"spark.driver.memory\", \"10g\")\n",
    "        .getOrCreate()\n",
    "    )\n",
    "\n",
    "    print(\"**SparkContext created**\")\n",
    "    print(f\"GUI: {spark.sparkContext.uiWebUrl}\")\n",
    "    print(f\"AppName: {spark.sparkContext.appName}\\n\")\n",
    "\n",
    "    rdd = load_data_set(spark, path)\n",
    "\n",
    "    most_frequent_annotations, annotation_dict = get_most_frequent_annotations(\n",
    "        rdd, annotation_threshold\n",
    "    )\n",
    "\n",
    "    print(f\"Most frequent annotations: {most_frequent_annotations}\\n\")\n",
    "\n",
    "    print(f\"Annotation dictionary: {annotation_dict}\\n\")\n",
    "\n",
    "    rdd_subset = extract_relevant_fields(rdd)\n",
    "\n",
    "    pipe =  spark.sparkContext.broadcast(pipeline(model=\"valhalla/distilbart-mnli-12-9\"))\n",
    "\n",
    "    def zero_shot_classification(text, labels):\n",
    "        resp =  pipe.value(text, labels, multi_label=False)\n",
    "\n",
    "        labels_scores = zip(resp['labels'],resp['scores'])\n",
    "\n",
    "        labels_scores = filter(lambda x: x[1] > 0.3, labels_scores)\n",
    "\n",
    "        predicted_labels = list(map(lambda x: x[0], labels_scores))\n",
    "\n",
    "        if len(predicted_labels) > 0:\n",
    "            return predicted_labels\n",
    "        else:\n",
    "            return [resp['labels'][0]]\n",
    "\n",
    "    regression_df = apply_processing_pipeline(\n",
    "        rdd, rdd_subset, most_frequent_annotations, annotation_dict, output_name, zero_shot_classification, path\n",
    "    )\n",
    "\n",
    "    return regression_df\n",
    "\n"
   ]
  },
  {
   "cell_type": "code",
   "execution_count": 6,
   "metadata": {},
   "outputs": [
    {
     "name": "stderr",
     "output_type": "stream",
     "text": [
      "Setting default log level to \"WARN\".\n",
      "To adjust logging level use sc.setLogLevel(newLevel). For SparkR, use setLogLevel(newLevel).\n"
     ]
    },
    {
     "name": "stdout",
     "output_type": "stream",
     "text": [
      "23/05/25 14:19:37 WARN NativeCodeLoader: Unable to load native-hadoop library for your platform... using builtin-java classes where applicable\n",
      "**SparkContext created**\n",
      "GUI: http://tsf-428-wpa-0-181.epfl.ch:4040\n",
      "AppName: tweet_loader\n",
      "\n",
      "**Loading data from json file**\n"
     ]
    },
    {
     "name": "stderr",
     "output_type": "stream",
     "text": [
      "                                                                                \r"
     ]
    },
    {
     "name": "stdout",
     "output_type": "stream",
     "text": [
      "Schema written to file\n",
      "\n",
      "**Getting most frequent annotations** \n",
      "\n"
     ]
    },
    {
     "name": "stderr",
     "output_type": "stream",
     "text": [
      "                                                                                \r"
     ]
    },
    {
     "name": "stdout",
     "output_type": "stream",
     "text": [
      "Most frequent annotations: ['Sports & Fitness Business', 'Sports', 'Entertainment & Leisure Business', 'Basketball', 'NBA', 'NBA Basketball', 'Music', 'NBA players', 'Politics', 'Entertainment', 'Political figures', 'Television', 'Famous comedians', 'Business personalities', 'Sports figures']\n",
      "\n",
      "Annotation dictionary: {'Sports & Fitness Business': 0, 'Sports': 1, 'Entertainment & Leisure Business': 2, 'Basketball': 3, 'NBA': 4, 'NBA Basketball': 5, 'Music': 6, 'NBA players': 7, 'Politics': 8, 'Entertainment': 9, 'Political figures': 10, 'Television': 11, 'Famous comedians': 12, 'Business personalities': 13, 'Sports figures': 14}\n",
      "\n",
      "../data/american_celebrities/tweet_with_mapped_annotations.jsonl\n"
     ]
    },
    {
     "name": "stderr",
     "output_type": "stream",
     "text": [
      "ERROR:root:Exception while sending command.                         (0 + 8) / 8]\n",
      "Traceback (most recent call last):\n",
      "  File \"/home/adeye/anaconda3/lib/python3.9/site-packages/py4j/clientserver.py\", line 511, in send_command\n",
      "    answer = smart_decode(self.stream.readline()[:-1])\n",
      "RuntimeError: reentrant call inside <_io.BufferedReader name=71>\n",
      "\n",
      "During handling of the above exception, another exception occurred:\n",
      "\n",
      "Traceback (most recent call last):\n",
      "  File \"/home/adeye/anaconda3/lib/python3.9/site-packages/py4j/java_gateway.py\", line 1038, in send_command\n",
      "    response = connection.send_command(command)\n",
      "  File \"/home/adeye/anaconda3/lib/python3.9/site-packages/py4j/clientserver.py\", line 539, in send_command\n",
      "    raise Py4JNetworkError(\n",
      "py4j.protocol.Py4JNetworkError: Error while sending or receiving\n",
      "ERROR:root:Exception while sending command.\n",
      "Traceback (most recent call last):\n",
      "  File \"/home/adeye/anaconda3/lib/python3.9/site-packages/py4j/clientserver.py\", line 511, in send_command\n",
      "    answer = smart_decode(self.stream.readline()[:-1])\n",
      "  File \"/home/adeye/anaconda3/lib/python3.9/socket.py\", line 704, in readinto\n",
      "    return self._sock.recv_into(b)\n",
      "  File \"/home/adeye/anaconda3/lib/python3.9/site-packages/pyspark/context.py\", line 362, in signal_handler\n",
      "    self.cancelAllJobs()\n",
      "  File \"/home/adeye/anaconda3/lib/python3.9/site-packages/pyspark/context.py\", line 1447, in cancelAllJobs\n",
      "    self._jsc.sc().cancelAllJobs()\n",
      "  File \"/home/adeye/anaconda3/lib/python3.9/site-packages/py4j/java_gateway.py\", line 1321, in __call__\n",
      "    return_value = get_return_value(\n",
      "  File \"/home/adeye/anaconda3/lib/python3.9/site-packages/pyspark/sql/utils.py\", line 190, in deco\n",
      "    return f(*a, **kw)\n",
      "  File \"/home/adeye/anaconda3/lib/python3.9/site-packages/py4j/protocol.py\", line 334, in get_return_value\n",
      "    raise Py4JError(\n",
      "py4j.protocol.Py4JError: An error occurred while calling o16.sc\n",
      "\n",
      "During handling of the above exception, another exception occurred:\n",
      "\n",
      "Traceback (most recent call last):\n",
      "  File \"/home/adeye/anaconda3/lib/python3.9/site-packages/py4j/java_gateway.py\", line 1038, in send_command\n",
      "    response = connection.send_command(command)\n",
      "  File \"/home/adeye/anaconda3/lib/python3.9/site-packages/py4j/clientserver.py\", line 539, in send_command\n",
      "    raise Py4JNetworkError(\n",
      "py4j.protocol.Py4JNetworkError: Error while sending or receiving\n"
     ]
    },
    {
     "ename": "Py4JError",
     "evalue": "An error occurred while calling o107.saveAsTextFile",
     "output_type": "error",
     "traceback": [
      "\u001b[0;31m---------------------------------------------------------------------------\u001b[0m",
      "\u001b[0;31mPy4JError\u001b[0m                                 Traceback (most recent call last)",
      "\u001b[1;32m/home/adeye/Documents/EPFL/MA4/semester_project/notebooks/05_pre_regression_pipeline.ipynb Cell 6\u001b[0m in \u001b[0;36m<cell line: 1>\u001b[0;34m()\u001b[0m\n\u001b[0;32m----> <a href='vscode-notebook-cell:/home/adeye/Documents/EPFL/MA4/semester_project/notebooks/05_pre_regression_pipeline.ipynb#W5sZmlsZQ%3D%3D?line=0'>1</a>\u001b[0m rddddd \u001b[39m=\u001b[39m pre_processing_pipeline(\u001b[39m\"\u001b[39;49m\u001b[39m../data/american_celebrities/tweets.jsonl\u001b[39;49m\u001b[39m\"\u001b[39;49m, \u001b[39m\"\u001b[39;49m\u001b[39mtest\u001b[39;49m\u001b[39m\"\u001b[39;49m, \u001b[39m8\u001b[39;49m, \u001b[39m15\u001b[39;49m)\u001b[39m.\u001b[39mtake(\u001b[39m1000\u001b[39m)\n",
      "\u001b[1;32m/home/adeye/Documents/EPFL/MA4/semester_project/notebooks/05_pre_regression_pipeline.ipynb Cell 6\u001b[0m in \u001b[0;36mpre_processing_pipeline\u001b[0;34m(path, output_name, workers, annotation_threshold)\u001b[0m\n\u001b[1;32m     <a href='vscode-notebook-cell:/home/adeye/Documents/EPFL/MA4/semester_project/notebooks/05_pre_regression_pipeline.ipynb#W5sZmlsZQ%3D%3D?line=37'>38</a>\u001b[0m     \u001b[39melse\u001b[39;00m:\n\u001b[1;32m     <a href='vscode-notebook-cell:/home/adeye/Documents/EPFL/MA4/semester_project/notebooks/05_pre_regression_pipeline.ipynb#W5sZmlsZQ%3D%3D?line=38'>39</a>\u001b[0m         \u001b[39mreturn\u001b[39;00m [resp[\u001b[39m'\u001b[39m\u001b[39mlabels\u001b[39m\u001b[39m'\u001b[39m][\u001b[39m0\u001b[39m]]\n\u001b[0;32m---> <a href='vscode-notebook-cell:/home/adeye/Documents/EPFL/MA4/semester_project/notebooks/05_pre_regression_pipeline.ipynb#W5sZmlsZQ%3D%3D?line=40'>41</a>\u001b[0m regression_df \u001b[39m=\u001b[39m apply_processing_pipeline(\n\u001b[1;32m     <a href='vscode-notebook-cell:/home/adeye/Documents/EPFL/MA4/semester_project/notebooks/05_pre_regression_pipeline.ipynb#W5sZmlsZQ%3D%3D?line=41'>42</a>\u001b[0m     rdd, rdd_subset, most_frequent_annotations, annotation_dict, output_name, zero_shot_classification, path\n\u001b[1;32m     <a href='vscode-notebook-cell:/home/adeye/Documents/EPFL/MA4/semester_project/notebooks/05_pre_regression_pipeline.ipynb#W5sZmlsZQ%3D%3D?line=42'>43</a>\u001b[0m )\n\u001b[1;32m     <a href='vscode-notebook-cell:/home/adeye/Documents/EPFL/MA4/semester_project/notebooks/05_pre_regression_pipeline.ipynb#W5sZmlsZQ%3D%3D?line=44'>45</a>\u001b[0m \u001b[39mreturn\u001b[39;00m regression_df\n",
      "\u001b[1;32m/home/adeye/Documents/EPFL/MA4/semester_project/notebooks/05_pre_regression_pipeline.ipynb Cell 6\u001b[0m in \u001b[0;36mapply_processing_pipeline\u001b[0;34m(json_rdd, json_rdd_data_fields, most_frequent_annotations, annotation_dict, output_name, zero_shot_classification, path)\u001b[0m\n\u001b[1;32m     <a href='vscode-notebook-cell:/home/adeye/Documents/EPFL/MA4/semester_project/notebooks/05_pre_regression_pipeline.ipynb#W5sZmlsZQ%3D%3D?line=40'>41</a>\u001b[0m new_path \u001b[39m=\u001b[39m \u001b[39m\"\u001b[39m\u001b[39m/\u001b[39m\u001b[39m\"\u001b[39m\u001b[39m.\u001b[39mjoin(path\u001b[39m.\u001b[39msplit(\u001b[39m\"\u001b[39m\u001b[39m/\u001b[39m\u001b[39m\"\u001b[39m)[:\u001b[39m-\u001b[39m\u001b[39m1\u001b[39m]) \u001b[39m+\u001b[39m \u001b[39m\"\u001b[39m\u001b[39m/tweet_with_mapped_annotations.jsonl\u001b[39m\u001b[39m\"\u001b[39m\n\u001b[1;32m     <a href='vscode-notebook-cell:/home/adeye/Documents/EPFL/MA4/semester_project/notebooks/05_pre_regression_pipeline.ipynb#W5sZmlsZQ%3D%3D?line=42'>43</a>\u001b[0m \u001b[39mprint\u001b[39m(new_path)\n\u001b[0;32m---> <a href='vscode-notebook-cell:/home/adeye/Documents/EPFL/MA4/semester_project/notebooks/05_pre_regression_pipeline.ipynb#W5sZmlsZQ%3D%3D?line=44'>45</a>\u001b[0m json_rdd_data_fields\u001b[39m.\u001b[39;49msaveAsTextFile(new_path)\n\u001b[1;32m     <a href='vscode-notebook-cell:/home/adeye/Documents/EPFL/MA4/semester_project/notebooks/05_pre_regression_pipeline.ipynb#W5sZmlsZQ%3D%3D?line=46'>47</a>\u001b[0m \u001b[39mreturn\u001b[39;00m json_rdd_data_fields\n",
      "File \u001b[0;32m~/anaconda3/lib/python3.9/site-packages/pyspark/rdd.py:2205\u001b[0m, in \u001b[0;36mRDD.saveAsTextFile\u001b[0;34m(self, path, compressionCodecClass)\u001b[0m\n\u001b[1;32m   2203\u001b[0m     keyed\u001b[39m.\u001b[39m_jrdd\u001b[39m.\u001b[39mmap(\u001b[39mself\u001b[39m\u001b[39m.\u001b[39mctx\u001b[39m.\u001b[39m_jvm\u001b[39m.\u001b[39mBytesToString())\u001b[39m.\u001b[39msaveAsTextFile(path, compressionCodec)\n\u001b[1;32m   2204\u001b[0m \u001b[39melse\u001b[39;00m:\n\u001b[0;32m-> 2205\u001b[0m     keyed\u001b[39m.\u001b[39;49m_jrdd\u001b[39m.\u001b[39;49mmap(\u001b[39mself\u001b[39;49m\u001b[39m.\u001b[39;49mctx\u001b[39m.\u001b[39;49m_jvm\u001b[39m.\u001b[39;49mBytesToString())\u001b[39m.\u001b[39;49msaveAsTextFile(path)\n",
      "File \u001b[0;32m~/anaconda3/lib/python3.9/site-packages/py4j/java_gateway.py:1321\u001b[0m, in \u001b[0;36mJavaMember.__call__\u001b[0;34m(self, *args)\u001b[0m\n\u001b[1;32m   1315\u001b[0m command \u001b[39m=\u001b[39m proto\u001b[39m.\u001b[39mCALL_COMMAND_NAME \u001b[39m+\u001b[39m\\\n\u001b[1;32m   1316\u001b[0m     \u001b[39mself\u001b[39m\u001b[39m.\u001b[39mcommand_header \u001b[39m+\u001b[39m\\\n\u001b[1;32m   1317\u001b[0m     args_command \u001b[39m+\u001b[39m\\\n\u001b[1;32m   1318\u001b[0m     proto\u001b[39m.\u001b[39mEND_COMMAND_PART\n\u001b[1;32m   1320\u001b[0m answer \u001b[39m=\u001b[39m \u001b[39mself\u001b[39m\u001b[39m.\u001b[39mgateway_client\u001b[39m.\u001b[39msend_command(command)\n\u001b[0;32m-> 1321\u001b[0m return_value \u001b[39m=\u001b[39m get_return_value(\n\u001b[1;32m   1322\u001b[0m     answer, \u001b[39mself\u001b[39;49m\u001b[39m.\u001b[39;49mgateway_client, \u001b[39mself\u001b[39;49m\u001b[39m.\u001b[39;49mtarget_id, \u001b[39mself\u001b[39;49m\u001b[39m.\u001b[39;49mname)\n\u001b[1;32m   1324\u001b[0m \u001b[39mfor\u001b[39;00m temp_arg \u001b[39min\u001b[39;00m temp_args:\n\u001b[1;32m   1325\u001b[0m     temp_arg\u001b[39m.\u001b[39m_detach()\n",
      "File \u001b[0;32m~/anaconda3/lib/python3.9/site-packages/pyspark/sql/utils.py:190\u001b[0m, in \u001b[0;36mcapture_sql_exception.<locals>.deco\u001b[0;34m(*a, **kw)\u001b[0m\n\u001b[1;32m    188\u001b[0m \u001b[39mdef\u001b[39;00m \u001b[39mdeco\u001b[39m(\u001b[39m*\u001b[39ma: Any, \u001b[39m*\u001b[39m\u001b[39m*\u001b[39mkw: Any) \u001b[39m-\u001b[39m\u001b[39m>\u001b[39m Any:\n\u001b[1;32m    189\u001b[0m     \u001b[39mtry\u001b[39;00m:\n\u001b[0;32m--> 190\u001b[0m         \u001b[39mreturn\u001b[39;00m f(\u001b[39m*\u001b[39;49ma, \u001b[39m*\u001b[39;49m\u001b[39m*\u001b[39;49mkw)\n\u001b[1;32m    191\u001b[0m     \u001b[39mexcept\u001b[39;00m Py4JJavaError \u001b[39mas\u001b[39;00m e:\n\u001b[1;32m    192\u001b[0m         converted \u001b[39m=\u001b[39m convert_exception(e\u001b[39m.\u001b[39mjava_exception)\n",
      "File \u001b[0;32m~/anaconda3/lib/python3.9/site-packages/py4j/protocol.py:334\u001b[0m, in \u001b[0;36mget_return_value\u001b[0;34m(answer, gateway_client, target_id, name)\u001b[0m\n\u001b[1;32m    330\u001b[0m             \u001b[39mraise\u001b[39;00m Py4JError(\n\u001b[1;32m    331\u001b[0m                 \u001b[39m\"\u001b[39m\u001b[39mAn error occurred while calling \u001b[39m\u001b[39m{0}\u001b[39;00m\u001b[39m{1}\u001b[39;00m\u001b[39m{2}\u001b[39;00m\u001b[39m. Trace:\u001b[39m\u001b[39m\\n\u001b[39;00m\u001b[39m{3}\u001b[39;00m\u001b[39m\\n\u001b[39;00m\u001b[39m\"\u001b[39m\u001b[39m.\u001b[39m\n\u001b[1;32m    332\u001b[0m                 \u001b[39mformat\u001b[39m(target_id, \u001b[39m\"\u001b[39m\u001b[39m.\u001b[39m\u001b[39m\"\u001b[39m, name, value))\n\u001b[1;32m    333\u001b[0m     \u001b[39melse\u001b[39;00m:\n\u001b[0;32m--> 334\u001b[0m         \u001b[39mraise\u001b[39;00m Py4JError(\n\u001b[1;32m    335\u001b[0m             \u001b[39m\"\u001b[39m\u001b[39mAn error occurred while calling \u001b[39m\u001b[39m{0}\u001b[39;00m\u001b[39m{1}\u001b[39;00m\u001b[39m{2}\u001b[39;00m\u001b[39m\"\u001b[39m\u001b[39m.\u001b[39m\n\u001b[1;32m    336\u001b[0m             \u001b[39mformat\u001b[39m(target_id, \u001b[39m\"\u001b[39m\u001b[39m.\u001b[39m\u001b[39m\"\u001b[39m, name))\n\u001b[1;32m    337\u001b[0m \u001b[39melse\u001b[39;00m:\n\u001b[1;32m    338\u001b[0m     \u001b[39mtype\u001b[39m \u001b[39m=\u001b[39m answer[\u001b[39m1\u001b[39m]\n",
      "\u001b[0;31mPy4JError\u001b[0m: An error occurred while calling o107.saveAsTextFile"
     ]
    },
    {
     "name": "stderr",
     "output_type": "stream",
     "text": [
      "[Stage 8:>                                                          (0 + 8) / 8]\r"
     ]
    }
   ],
   "source": [
    "rddddd = pre_processing_pipeline(\"../data/american_celebrities/tweets.jsonl\", \"test\", 8, 15).take(1000)\n",
    "\n",
    "# starts ~28s"
   ]
  },
  {
   "cell_type": "code",
   "execution_count": null,
   "metadata": {},
   "outputs": [],
   "source": []
  }
 ],
 "metadata": {
  "kernelspec": {
   "display_name": "base",
   "language": "python",
   "name": "python3"
  },
  "language_info": {
   "codemirror_mode": {
    "name": "ipython",
    "version": 3
   },
   "file_extension": ".py",
   "mimetype": "text/x-python",
   "name": "python",
   "nbconvert_exporter": "python",
   "pygments_lexer": "ipython3",
   "version": "3.9.15"
  },
  "orig_nbformat": 4
 },
 "nbformat": 4,
 "nbformat_minor": 2
}
