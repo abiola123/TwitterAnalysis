{
 "cells": [
  {
   "attachments": {},
   "cell_type": "markdown",
   "metadata": {},
   "source": [
    "# REGRESSION"
   ]
  },
  {
   "cell_type": "code",
   "execution_count": null,
   "metadata": {},
   "outputs": [],
   "source": [
    "import statsmodels.formula.api as smf\n",
    "import pandas as pd\n",
    "import numpy as np\n",
    "import seaborn as sns\n",
    "import matplotlib.pyplot as plt\n",
    "import os\n",
    "\n",
    "sns.set_style('darkgrid')"
   ]
  },
  {
   "attachments": {},
   "cell_type": "markdown",
   "metadata": {},
   "source": [
    "## HELPER FUNCTIONS"
   ]
  },
  {
   "cell_type": "code",
   "execution_count": null,
   "metadata": {},
   "outputs": [],
   "source": [
    "def create_regressor_columns_string(columns):\n",
    "  # Join all independent variables to define the formula used by the model\n",
    "  regressor_columns = list(filter(lambda x: x != 'impression_count',columns))\n",
    "  regressor_columns_string = \"+\".join(regressor_columns)\n",
    "  return regressor_columns_string"
   ]
  },
  {
   "cell_type": "code",
   "execution_count": null,
   "metadata": {},
   "outputs": [],
   "source": [
    "def perform_regression(regression_df, significant_variables):\n",
    "    # Define formula without cross terms\n",
    "    regressor_columns_string = create_regressor_columns_string(significant_variables)\n",
    "    # Fit model\n",
    "    mod = smf.ols(formula=f'impression_count ~ {regressor_columns_string}', data=regression_df)\n",
    "    res = mod.fit()\n",
    "    return res"
   ]
  },
  {
   "cell_type": "code",
   "execution_count": null,
   "metadata": {},
   "outputs": [],
   "source": [
    "def keep_significant_var(p_values):\n",
    "    # Filter p-values < 0.05\n",
    "    p_values = p_values[p_values < 0.05]\n",
    "\n",
    "    # Get significant variables\n",
    "    significant_variables = list(p_values.index)\n",
    "    # Remove intercept if significant\n",
    "    try:\n",
    "        significant_variables.remove('Intercept')\n",
    "    except:\n",
    "        pass\n",
    "\n",
    "    return significant_variables"
   ]
  },
  {
   "attachments": {},
   "cell_type": "markdown",
   "metadata": {},
   "source": [
    "## REGRESSIONS WITH LOG TRANSFORMED VARIABLES AND THRESHOLDING"
   ]
  },
  {
   "cell_type": "code",
   "execution_count": null,
   "metadata": {},
   "outputs": [],
   "source": [
    "def regression(path, threshold=1e2):\n",
    "    # Load data\n",
    "    regression_df_pd = pd.read_csv(path)\n",
    "    regression_df_pd = regression_df_pd.drop('tweet_text', axis=1)\n",
    "    \n",
    "    #======================#\n",
    "    #   FIRST REGRESSION   #\n",
    "    #======================#\n",
    "    significant_variables = list(regression_df_pd.columns)\n",
    "    res = perform_regression(regression_df_pd, significant_variables)\n",
    "    p_values = res.pvalues\n",
    "    nb_variables_before = len(p_values)\n",
    "    \n",
    "    #======================#\n",
    "    #   SECOND REGRESSION  #\n",
    "    #======================#\n",
    "    # Filter out data if impression_count < threshold\n",
    "    regression_df_pd = regression_df_pd[regression_df_pd['impression_count'] >= threshold].copy()\n",
    "\n",
    "    # Perform new regression with significant variables\n",
    "    res_threshold = perform_regression(regression_df_pd, significant_variables)\n",
    "\n",
    "    #======================#\n",
    "    #   THIRD REGRESSION   #\n",
    "    #======================#\n",
    "    # Apply log transformation to independent variables\n",
    "    for var in regression_df_pd.columns:\n",
    "            regression_df_pd[var] = regression_df_pd[var].apply(lambda x: np.log(1+x))\n",
    "\n",
    "    # Perform new regression with significant variables\n",
    "    res_log = perform_regression(regression_df_pd, significant_variables)\n",
    "    p_values = res_log.pvalues\n",
    "\n",
    "    #======================#\n",
    "    #   FINAL RESULTS      #\n",
    "    #======================#\n",
    "    # Filter p-values < 0.05\n",
    "    significant_variables = keep_significant_var(p_values)\n",
    "    nb_variables_after = len(significant_variables)\n",
    "\n",
    "    # Perform new regression with significant variables\n",
    "    res_final = perform_regression(regression_df_pd, significant_variables)\n",
    "\n",
    "    print(f'Number of discarded variables: {nb_variables_before - nb_variables_after}')\n",
    "    print(f'Significant variables ({len(significant_variables)}): {significant_variables}')\n",
    "\n",
    "    #======================#\n",
    "    #   SAVE AS HTML       #\n",
    "    #======================#\n",
    "    # Save first res as html\n",
    "    res_html = res.summary().as_html()\n",
    "    name = path.split('/')[-1].split('.')[0][:-3]\n",
    "    path_root = os.path.join('/'.join(os.getcwd().split('/')[:-1]), \"data\", \"regression\", \"html_regression\")\n",
    "    path = os.path.join(path_root, name+\".html\")\n",
    "    with open(path, 'w') as f:\n",
    "        f.write(res_html)\n",
    "\n",
    "    # Save second res as html\n",
    "    res_thresh_html = res_threshold.summary().as_html()\n",
    "    path_opti = os.path.join(path_root, name+\"_threshold.html\")\n",
    "    with open(path_opti, 'w') as f:\n",
    "        f.write(res_thresh_html)\n",
    "\n",
    "    # Save third res as html\n",
    "    res_log_html = res_log.summary().as_html()\n",
    "    path_log = os.path.join(path_root, name+\"_log.html\")\n",
    "    with open(path_log, 'w') as f:\n",
    "        f.write(res_log_html)\n",
    "\n",
    "    # Save final res as html\n",
    "    res_final_html = res_final.summary().as_html()\n",
    "    path_final = os.path.join(path_root, name+\"_final.html\")\n",
    "    with open(path_final, 'w') as f:\n",
    "        f.write(res_final_html)\n",
    "\n",
    "    return res, res_threshold, res_log, res_final"
   ]
  },
  {
   "cell_type": "code",
   "execution_count": null,
   "metadata": {},
   "outputs": [],
   "source": [
    "path_data = '../data/regression/american_celebrities_regression_dff.csv'\n",
    "res_reg = regression(path_data)\n",
    "\n",
    "display(res_reg[0].summary())\n",
    "display(res_reg[1].summary())\n",
    "display(res_reg[2].summary())\n",
    "display(res_reg[3].summary())"
   ]
  },
  {
   "attachments": {},
   "cell_type": "markdown",
   "metadata": {},
   "source": [
    "## COEFFICIENTS PLOTS"
   ]
  },
  {
   "cell_type": "code",
   "execution_count": null,
   "metadata": {},
   "outputs": [],
   "source": [
    "# Assign significant levels stars to each variable name\n",
    "def assign_stars(row):\n",
    "    p_value = float(row['P>|t|'])\n",
    "    name = row[0].replace('_', ' ').title()\n",
    "    if p_value <= 0.01:\n",
    "        return name + ' ***'\n",
    "    elif p_value <= 0.05:\n",
    "        return name + ' **'\n",
    "    elif p_value <= 0.1:\n",
    "        return name + ' *'\n",
    "    else:\n",
    "        return name"
   ]
  },
  {
   "cell_type": "code",
   "execution_count": null,
   "metadata": {},
   "outputs": [],
   "source": [
    "# Define function to output plot of the model coefficients\n",
    "\n",
    "def coefplot(results):\n",
    "    ### PREPARE DATA FOR PLOTTING\n",
    "    # Create dataframe of results summary \n",
    "    coef_df = pd.DataFrame(results.summary().tables[1].data)\n",
    "    \n",
    "    # Add column names and drop the extra row with column labels\n",
    "    coef_df.columns = coef_df.iloc[0]\n",
    "    columns = coef_df.iloc[:,0]\n",
    "    coef_df=coef_df.drop(0)\n",
    "\n",
    "    # Rename column 0 and append * ** or *** for significance levels\n",
    "    # coef_df[\"index\"] = coef_df.apply(lambda x: assign_stars(x), axis=1)\n",
    "\n",
    "    # Set index to variable names\n",
    "    coef_df = coef_df.set_index(coef_df.apply(lambda x: assign_stars(x), axis=1))\n",
    "    coef_df = coef_df.drop(coef_df.columns[0], axis=1)\n",
    "\n",
    "    # Change datatype from object to float\n",
    "    coef_df = coef_df.astype(float)\n",
    "\n",
    "    # Get errors; (coef - lower bound of conf interval)\n",
    "    errors = coef_df['coef'] - coef_df['[0.025']\n",
    "    coef_df['errors'] = errors\n",
    "\n",
    "    # Sort values by coef ascending\n",
    "    coef_df = coef_df.sort_values(by=['coef'])\n",
    "\n",
    "    ### PLOT COEFFICIENTS\n",
    "    variables = list(coef_df.index.values)\n",
    "    coef_df['variables'] = variables\n",
    "\n",
    "    # Define figure, axes, and plot\n",
    "    fig, ax = plt.subplots(figsize=(15, 10))\n",
    "    \n",
    "    # Error bars for 95% confidence interval\n",
    "    # Can increase capsize to add whiskers\n",
    "    coef_df.plot(x='variables', y='coef', kind='bar', ax=ax, color='none', fontsize=15, ecolor='steelblue', capsize=0, yerr='errors', legend=False)\n",
    "    \n",
    "    # Coefficients\n",
    "    ax.scatter(x=np.arange(coef_df.shape[0]), marker='o', s=80, y=coef_df['coef'], color='steelblue')\n",
    "    \n",
    "    # Line to define zero on the y-axis\n",
    "    ax.axhline(y=0, linestyle='--', color='red', linewidth=1)\n",
    "    \n",
    "    # Set title & labels\n",
    "    #plt.title('Coefficients of Features - 95% Confidence Intervals',fontsize=20)\n",
    "    ax.set_ylabel('Coefficients',fontsize=15)\n",
    "    ax.set_xlabel('',fontsize=15)\n",
    "\n",
    "    # Rotate y ticks and move to the right side\n",
    "    ax.yaxis.tick_right()\n",
    "    plt.yticks(rotation=90, fontsize=15)\n",
    "    \n",
    "    plt.show()\n",
    "\n",
    "    return list(columns[2:])"
   ]
  },
  {
   "cell_type": "code",
   "execution_count": null,
   "metadata": {},
   "outputs": [],
   "source": [
    "significant_columns = coefplot(res_reg[3])"
   ]
  },
  {
   "cell_type": "code",
   "execution_count": null,
   "metadata": {},
   "outputs": [],
   "source": [
    "regression_df_pd = pd.read_csv('../data/regression/american_celebrities_regression_dff.csv')[significant_columns + ['impression_count']]\n",
    "\n",
    "regression_df_pd = regression_df_pd[regression_df_pd['impression_count'] >= 1e2].copy()\n",
    "\n",
    "    # Perform new regression with significant variables\n",
    "\n",
    "    #======================#\n",
    "    #   THIRD REGRESSION   #\n",
    "    #======================#\n",
    "    # Apply log transformation to independent variables\n",
    "for var in regression_df_pd.columns:\n",
    "    regression_df_pd[var] = regression_df_pd[var].apply(lambda x: np.log(1+x))"
   ]
  },
  {
   "cell_type": "code",
   "execution_count": null,
   "metadata": {},
   "outputs": [],
   "source": [
    "from sklearn.metrics import mean_squared_error\n",
    "from sklearn.model_selection import train_test_split\n",
    "\n",
    "# perform regression with splitting into training and validation set and compute mse\n",
    "def perform_regression_with_split(df, significant_columns):\n",
    "    # Split into train and validation set\n",
    "    train, validation = train_test_split(df, test_size=0.2, random_state=42)\n",
    "\n",
    "    # Perform regression on train set\n",
    "    res = perform_regression(train, significant_columns)\n",
    "\n",
    "    # Compute mse on validation set\n",
    "    y_pred = res.predict(validation[significant_columns])\n",
    "    y_true = validation['impression_count']\n",
    "    mse = mean_squared_error(y_true, y_pred)\n",
    "    print(f'MSE: {mse}')\n",
    "\n",
    "    return res"
   ]
  },
  {
   "cell_type": "code",
   "execution_count": null,
   "metadata": {},
   "outputs": [],
   "source": [
    "perform_regression_with_split(regression_df_pd, significant_columns)"
   ]
  },
  {
   "cell_type": "code",
   "execution_count": null,
   "metadata": {},
   "outputs": [],
   "source": [
    "# plot predicted impression count vs actual impression count\n",
    "def plot_predicted_vs_actual(df, significant_columns):\n",
    "    res = perform_regression(df, significant_columns)\n",
    "    y_pred = res.predict(df[significant_columns])\n",
    "    y_true = df['impression_count']\n",
    "\n",
    "    plt.plot([y_true.min(), y_true.max()], [y_true.min(), y_true.max()], 'r--', lw=2)\n",
    "    plt.scatter(y_true, y_pred)\n",
    "    plt.xlabel('Actual')\n",
    "    plt.ylabel('Predicted')\n",
    "    plt.show()\n",
    "\n",
    "plot_predicted_vs_actual(regression_df_pd, significant_columns)"
   ]
  },
  {
   "cell_type": "code",
   "execution_count": null,
   "metadata": {},
   "outputs": [],
   "source": []
  }
 ],
 "metadata": {
  "kernelspec": {
   "display_name": "base",
   "language": "python",
   "name": "python3"
  },
  "language_info": {
   "codemirror_mode": {
    "name": "ipython",
    "version": 3
   },
   "file_extension": ".py",
   "mimetype": "text/x-python",
   "name": "python",
   "nbconvert_exporter": "python",
   "pygments_lexer": "ipython3",
   "version": "3.9.15"
  },
  "orig_nbformat": 4
 },
 "nbformat": 4,
 "nbformat_minor": 2
}
