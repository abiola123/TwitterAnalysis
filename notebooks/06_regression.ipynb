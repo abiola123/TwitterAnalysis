{
 "cells": [
  {
   "cell_type": "code",
   "execution_count": 1,
   "metadata": {},
   "outputs": [],
   "source": [
    "import statsmodels.formula.api as smf\n",
    "import pandas as pd"
   ]
  },
  {
   "cell_type": "code",
   "execution_count": 2,
   "metadata": {},
   "outputs": [],
   "source": [
    "def create_regressor_columns_string(columns):\n",
    "  # Join all independent variables to define the formula used by the model\n",
    "  regressor_columns = list(filter(lambda x: x != 'impression_count',columns))\n",
    "  regressor_columns_string = \"+\".join(regressor_columns)\n",
    "  return regressor_columns_string"
   ]
  },
  {
   "cell_type": "code",
   "execution_count": 3,
   "metadata": {},
   "outputs": [],
   "source": [
    "def regression(path):\n",
    "    # Load data\n",
    "    regression_df_pd = pd.read_csv(path)\n",
    "    regression_df_pd = regression_df_pd.drop('tweet_text', axis=1)\n",
    "    \n",
    "    # Define formula without cross terms\n",
    "    regressor_columns_string = create_regressor_columns_string(regression_df_pd.columns)\n",
    "    mod = smf.ols(formula=f'impression_count ~ {regressor_columns_string}', data=regression_df_pd)\n",
    "    res = mod.fit()\n",
    "    return res"
   ]
  },
  {
   "cell_type": "code",
   "execution_count": null,
   "metadata": {},
   "outputs": [],
   "source": [
    "path_frech_celebrities = '../data/regression/french_celebrities_regression_df.csv'\n",
    "res_french_celebrities = regression(path_frech_celebrities)\n",
    "\n",
    "res_french_celebrities.summary()"
   ]
  },
  {
   "cell_type": "code",
   "execution_count": 5,
   "metadata": {},
   "outputs": [
    {
     "name": "stdout",
     "output_type": "stream",
     "text": [
      "                            OLS Regression Results                            \n",
      "==============================================================================\n",
      "Dep. Variable:       impression_count   R-squared:                       0.183\n",
      "Model:                            OLS   Adj. R-squared:                  0.182\n",
      "Method:                 Least Squares   F-statistic:                     172.6\n",
      "Date:                Sat, 13 May 2023   Prob (F-statistic):               0.00\n",
      "Time:                        20:54:13   Log-Likelihood:            -2.2180e+05\n",
      "No. Observations:               16151   AIC:                         4.437e+05\n",
      "Df Residuals:                   16129   BIC:                         4.438e+05\n",
      "Df Model:                          21                                         \n",
      "Covariance Type:            nonrobust                                         \n",
      "======================================================================================================\n",
      "                                         coef    std err          t      P>|t|      [0.025      0.975]\n",
      "------------------------------------------------------------------------------------------------------\n",
      "Intercept                           -1.71e+04   3213.965     -5.321      0.000   -2.34e+04   -1.08e+04\n",
      "dummy_celebrities                    1.24e+04   2.89e+04      0.429      0.668   -4.42e+04     6.9e+04\n",
      "dummy_entertainment                -3.593e+04   8510.562     -4.222      0.000   -5.26e+04   -1.92e+04\n",
      "dummy_entertainmentleisurebusiness  2.427e+04   7351.944      3.302      0.001    9862.635    3.87e+04\n",
      "dummy_francepolitics                8.179e+04   1.19e+04      6.879      0.000    5.85e+04    1.05e+05\n",
      "dummy_jeanlucmlenchon              -1.865e+05   1.03e+04    -18.111      0.000   -2.07e+05   -1.66e+05\n",
      "dummy_nikosaliagas                 -1.017e+05   7631.240    -13.326      0.000   -1.17e+05   -8.67e+04\n",
      "dummy_politicalfigures             -6093.0430   9699.898     -0.628      0.530   -2.51e+04    1.29e+04\n",
      "dummy_soccer                        1.282e+05   2.17e+04      5.903      0.000    8.57e+04    1.71e+05\n",
      "dummy_sports                       -1939.6258   2.38e+04     -0.081      0.935   -4.86e+04    4.48e+04\n",
      "dummy_sportsfitnessbusiness        -1.673e+04   2.39e+04     -0.700      0.484   -6.36e+04    3.01e+04\n",
      "dummy_staderennaisfc               -1.003e+05   1.95e+04     -5.140      0.000   -1.39e+05    -6.2e+04\n",
      "dummy_tvhosts                       -4.19e+04    1.5e+04     -2.800      0.005   -7.12e+04   -1.26e+04\n",
      "dummy_tvstars                       -4.19e+04    1.5e+04     -2.800      0.005   -7.12e+04   -1.26e+04\n",
      "dummy_tweet_period_afternoon       -6287.0239   2756.049     -2.281      0.023   -1.17e+04    -884.862\n",
      "dummy_tweet_period_morning         -6410.7703   2920.076     -2.195      0.028   -1.21e+04    -687.096\n",
      "dummy_tweet_period_night           -4402.9105   2581.026     -1.706      0.088   -9462.009     656.188\n",
      "hashtags_count                     -3167.7802   2097.988     -1.510      0.131   -7280.070     944.510\n",
      "mentions_count                     -4645.4856   1025.391     -4.530      0.000   -6655.367   -2635.604\n",
      "tweet_external_urls_count           5687.9314   4624.156      1.230      0.219   -3375.928    1.48e+04\n",
      "tweet_length                          57.6515     27.365      2.107      0.035       4.012     111.291\n",
      "tweet_medias_count                  1.254e+04   3226.829      3.887      0.000    6217.351    1.89e+04\n",
      "tweet_sentiment                     1878.6859   5351.569      0.351      0.726   -8610.983    1.24e+04\n",
      "followers_count                        0.0785      0.001     53.046      0.000       0.076       0.081\n",
      "==============================================================================\n",
      "Omnibus:                    42710.957   Durbin-Watson:                   1.413\n",
      "Prob(Omnibus):                  0.000   Jarque-Bera (JB):       1471275351.651\n",
      "Skew:                          31.333   Prob(JB):                         0.00\n",
      "Kurtosis:                    1480.279   Cond. No.                     1.07e+23\n",
      "==============================================================================\n",
      "\n",
      "Notes:\n",
      "[1] Standard Errors assume that the covariance matrix of the errors is correctly specified.\n",
      "[2] The smallest eigenvalue is 3.39e-30. This might indicate that there are\n",
      "strong multicollinearity problems or that the design matrix is singular.\n"
     ]
    }
   ],
   "source": [
    "regressor_columns_string = create_regressor_columns_string(regression_df_pd.columns)\n",
    "mod = smf.ols(formula=f'impression_count ~ {regressor_columns_string}', data=regression_df_pd)\n",
    "res = mod.fit()\n",
    "print(res.summary())"
   ]
  },
  {
   "cell_type": "code",
   "execution_count": null,
   "metadata": {},
   "outputs": [],
   "source": [
    "print(regression_df_pd.columns)\n",
    "\n",
    "regression_df_pd['impression_count'] = np.log(1+ regression_df_pd['impression_count'])\n",
    "\n",
    "display(regression_df_pd)\n",
    "\n",
    "regressor_columns = list(filter(lambda x: x not in [\n",
    "                         'tweet_external_urls_count', 'dummy_tweet_period_night', 'dummy_joemanchin', 'dummy_chrismurphy', 'dummy_financialservicesbusiness', 'dummy_inflationintheunitedstates', 'dummy_joebiden', 'dummy_politicalfigures', 'dummy_northcarolina', 'dummy_tedcruz', 'dummy_sportsfitnessbusiness', 'dummy_unitedstatescongress', 'dummy_markwarner', 'dummy_politicalnews', 'dummy_chriscoons'], regression_df_pd.columns))\n",
    "\n",
    "regressor_columns_string = create_regressor_columns_string(\n",
    "    regressor_columns)\n",
    "mod = smf.ols(\n",
    "    formula=f'impression_count ~ {regressor_columns_string}', data=regression_df_pd)\n",
    "res = mod.fit()\n",
    "print(res.summary())"
   ]
  }
 ],
 "metadata": {
  "kernelspec": {
   "display_name": "base",
   "language": "python",
   "name": "python3"
  },
  "language_info": {
   "codemirror_mode": {
    "name": "ipython",
    "version": 3
   },
   "file_extension": ".py",
   "mimetype": "text/x-python",
   "name": "python",
   "nbconvert_exporter": "python",
   "pygments_lexer": "ipython3",
   "version": "3.9.15"
  },
  "orig_nbformat": 4
 },
 "nbformat": 4,
 "nbformat_minor": 2
}
