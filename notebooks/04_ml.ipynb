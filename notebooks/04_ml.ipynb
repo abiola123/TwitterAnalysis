{
 "cells": [
  {
   "attachments": {},
   "cell_type": "markdown",
   "metadata": {},
   "source": [
    "# MACHINE LEARNING"
   ]
  },
  {
   "cell_type": "code",
   "execution_count": null,
   "metadata": {},
   "outputs": [],
   "source": [
    "import pandas as pd\n",
    "import numpy as np\n",
    "import matplotlib.pyplot as plt\n",
    "import seaborn as sns\n",
    "sns.set_style('darkgrid')\n",
    "%matplotlib inline"
   ]
  },
  {
   "cell_type": "code",
   "execution_count": null,
   "metadata": {},
   "outputs": [],
   "source": [
    "# Load the data\n",
    "american_politicians_df = pd.read_parquet('../data/american_politicians/parquet/', engine='pyarrow')\n",
    "# Parse the date column to datetime\n",
    "american_politicians_df['created_at'] = pd.to_datetime(american_politicians_df['created_at'])\n",
    "display(american_politicians_df.head())"
   ]
  },
  {
   "cell_type": "code",
   "execution_count": null,
   "metadata": {},
   "outputs": [],
   "source": [
    "def plot_scatterplots(df, columns, x_label):\n",
    "    \"\"\"Plot scatterplots of the given columns against the x_label.\n",
    "    \n",
    "    Parameters\n",
    "    ----------\n",
    "    df : pandas.DataFrame\n",
    "        The DataFrame to plot.\n",
    "    columns : list\n",
    "        The columns to plot.\n",
    "    x_label : str\n",
    "        The column to plot on the x-axis.\n",
    "        \"\"\"\n",
    "    nb_rows = len(columns)\n",
    "    height = 4 * nb_rows\n",
    "    fig, axes = plt.subplots(nb_rows, 2, figsize=(16, height))\n",
    "    colors = ['royalblue', 'dodgerblue', 'cornflowerblue', 'skyblue', 'lightsteelblue', 'lightblue', 'lightskyblue', 'powderblue']\n",
    "    i = 0 \n",
    "\n",
    "    for column in columns:\n",
    "        x_label_fmt = x_label.replace('_', ' ').title()\n",
    "        y_label_fmt = column.replace('_', ' ').title()\n",
    "\n",
    "        axes = axes.flatten()\n",
    "        ax1 = axes[i//2*2]\n",
    "        sns.scatterplot(x=df[x_label], y=df[column], color=colors[i//2], alpha=0.5, ax=ax1)\n",
    "        sns.regplot(x=df[x_label], y=df[column], color=colors[i//2], scatter=True, ax=ax1)\n",
    "        ax1.set_xlabel(x_label_fmt, fontsize=8)\n",
    "        ax1.set_ylabel(y_label_fmt, fontsize=8)\n",
    "        ax1.set_title(f'{y_label_fmt} as a Function of {x_label_fmt} in Linear Scale', fontsize=9)\n",
    "        ax1.set_xscale('linear')\n",
    "        ax1.set_yscale('linear')\n",
    "        \n",
    "        ax2 = axes[i//2*2+(i+1)%2]\n",
    "        sns.scatterplot(x=df[x_label], y=df[column], color=colors[i//2], alpha=0.5, ax=ax2)\n",
    "        ax2.set_xlabel(x_label_fmt, fontsize=8)\n",
    "        ax2.set_ylabel(y_label_fmt, fontsize=8)\n",
    "        ax2.set_title(f'{y_label_fmt} as a Function of {x_label_fmt} in Log Scale', fontsize=9)\n",
    "        ax2.set_xscale('log')\n",
    "        ax2.set_yscale('log')\n",
    "        \n",
    "        i += 2\n",
    "    plt.tight_layout()\n",
    "    plt.show()"
   ]
  },
  {
   "cell_type": "code",
   "execution_count": null,
   "metadata": {},
   "outputs": [],
   "source": [
    "# Plot the scatterplots of the engagement counts against impression count\n",
    "columns = ['retweet_count', 'reply_count', 'like_count', 'quote_count']\n",
    "plot_scatterplots(american_politicians_df, columns, 'impression_count')"
   ]
  },
  {
   "cell_type": "code",
   "execution_count": null,
   "metadata": {},
   "outputs": [],
   "source": [
    "# Plot the scatterplots of the impression counts against follower counts\n",
    "columns = ['impression_count']\n",
    "plot_scatterplots(american_politicians_df, columns, 'followers_count')"
   ]
  },
  {
   "cell_type": "markdown",
   "metadata": {},
   "source": [
    "### GET FEATURES FROM DATAFRAME"
   ]
  },
  {
   "attachments": {},
   "cell_type": "markdown",
   "metadata": {},
   "source": [
    "Tweet info:\n",
    "- Tweet length  ✅\n",
    "- Time of the tweet (morning, afternoon, night) ✅\n",
    "- Sentiment of the tweet (score computed by model) ✅\n",
    "- Number of hashtags ✅\n",
    "- Number of mentions ✅\n",
    "- Number of url's ✅\n",
    "- Media type (video, image, text,..) => attention c un tableau\n",
    "- (To clarify: location) 🚧\n",
    "\n",
    "User info:\n",
    "- Verified ✅\n",
    "- Profile creation date ✅\n",
    "- (To clarify: Tweet frequency) 🚧"
   ]
  },
  {
   "attachments": {},
   "cell_type": "markdown",
   "metadata": {},
   "source": [
    "## Extracting features from raw data"
   ]
  },
  {
   "cell_type": "code",
   "execution_count": null,
   "metadata": {},
   "outputs": [],
   "source": [
    "from pyspark.sql import SparkSession\n",
    "# Import spark and open json file\n",
    "spark = SparkSession.builder.getOrCreate()\n",
    "df = spark.read.json('../data/american_politicians/tweets.jsonl')\n",
    "json_rdd = df.rdd\n",
    "df.printSchema()\n",
    "spark"
   ]
  },
  {
   "cell_type": "code",
   "execution_count": null,
   "metadata": {},
   "outputs": [],
   "source": [
    "import vaderSentiment\n",
    "from vaderSentiment.vaderSentiment import SentimentIntensityAnalyzer\n",
    "from datetime import datetime\n",
    "\n",
    "# Function to get the sentiment of a tweet\n",
    "def analyse_sentiment(x):\n",
    "    analyzer = SentimentIntensityAnalyzer()\n",
    "    vs = analyzer.polarity_scores(x)\n",
    "    return vs['compound']\n",
    "\n",
    "# \n",
    "def add_key_value(x, key, value):\n",
    "    x[key] = value\n",
    "    return x\n",
    "\n",
    "\n",
    "def keep_medias_only(x):\n",
    "    urls = x['tweet_urls']\n",
    "    if not urls:\n",
    "        return []\n",
    "    media_urls = [url['media_key'] for url in urls if 'media_key' in url and url['media_key']]\n",
    "    return media_urls\n",
    "\n",
    "def get_number_medias(x):\n",
    "    return len(x['tweet_media_keys'])\n",
    "\n",
    "def get_number_external_urls(x):\n",
    "    return (len(x['tweet_urls']) if x['tweet_urls'] else 0) - x['tweet_medias_count']\n",
    "\n",
    "def get_period_of_day(x):\n",
    "    hour = datetime.strptime(x['tweet_date'],\"%Y-%m-%dT%H:%M:%S.%fZ\").hour\n",
    "    if hour >= 6 and hour < 12:\n",
    "        return 'morning'\n",
    "    elif hour >= 12 and hour < 18:\n",
    "        return 'afternoon'\n",
    "    else:\n",
    "        return 'night'"
   ]
  },
  {
   "cell_type": "code",
   "execution_count": null,
   "metadata": {},
   "outputs": [],
   "source": [
    "json_rdd_data_fields =json_rdd.flatMap(lambda x: x['data']) \\\n",
    ".map(lambda x : {\n",
    "    'tweet_text': x['text'],\n",
    "    'tweet_date': x['created_at'],\n",
    "    'tweet_hashtags': x['entities']['hashtags'],\n",
    "    'tweet_mentions': x['entities']['mentions'],\n",
    "    'tweet_urls': x['entities']['urls'], \n",
    "    'user_id': x['author_id'],\n",
    "})\n",
    "\n",
    "# adding sentiment analysis on the tweet text using vader to the data\n",
    "json_rdd_data_fields = json_rdd_data_fields.map(lambda x : add_key_value(x, 'sentiment', analyse_sentiment(x['tweet_text'])))\n",
    "\n",
    "# adding the tweet length to the data\n",
    "json_rdd_data_fields = json_rdd_data_fields.map(lambda x : add_key_value(x, 'tweet_length', len(x['tweet_text'])))\n",
    "\n",
    "# adding the number of hashtags to the data\n",
    "json_rdd_data_fields = json_rdd_data_fields.map(lambda x : add_key_value(x, 'hashtags_count', len(x['tweet_hashtags'])if x['tweet_hashtags'] else 0))\n",
    "\n",
    "# adding the number of mentions to the data\n",
    "json_rdd_data_fields = json_rdd_data_fields.map(lambda x : add_key_value(x, 'mentions_count', len(x['tweet_mentions'])if x['tweet_mentions'] else 0))\n",
    "\n",
    "# adding the media url's only to the data\n",
    "json_rdd_data_fields = json_rdd_data_fields.map(lambda x : add_key_value(x, 'tweet_media_keys', keep_medias_only(x)))\n",
    "\n",
    "# adding the number of medias to the data\n",
    "json_rdd_data_fields = json_rdd_data_fields.map(lambda x : add_key_value(x, 'tweet_medias_count', get_number_medias(x)))\n",
    "\n",
    "# adding the number of external urls to the data\n",
    "json_rdd_data_fields = json_rdd_data_fields.map(lambda x : add_key_value(x, 'tweet_external_urls_count', get_number_external_urls(x)))\n",
    "\n",
    "# adding the period of the day to the data\n",
    "json_rdd_data_fields = json_rdd_data_fields.map(lambda x : add_key_value(x, 'tweet_period', get_period_of_day(x)))\n",
    "display(json_rdd_data_fields.take(1))\n",
    "\n",
    "# json_rdd_data_fields_df = json_rdd_data_fields.toDF(['tweet_text', 'tweet_date', 'tweet_hashtags', 'tweet_mentions', 'tweet_urls', 'user_id', 'sentiment', 'tweet_length', 'hashtags_count', 'mentions_count', 'tweet_media_keys', 'tweet_medias_count', 'tweet_external_urls_count', 'tweet_period'])\n",
    "# json_rdd_data_fields_df.show(5)"
   ]
  },
  {
   "cell_type": "code",
   "execution_count": null,
   "metadata": {},
   "outputs": [],
   "source": [
    "json_rdd_includes_fields =json_rdd \\\n",
    ".map(lambda x : {\n",
    "    'user_profile_creation_date': x['includes']['users'][0]['created_at'],\n",
    "    'user_verified': x['includes']['users'][0]['verified'],\n",
    "    'user_creation_date': x['includes']['users'][0]['created_at'],\n",
    "    'user_id': x['includes']['users'][0]['id'],\n",
    "})\n",
    "\n",
    "json_rdd_includes_fields.take(10)"
   ]
  },
  {
   "cell_type": "code",
   "execution_count": null,
   "metadata": {},
   "outputs": [],
   "source": [
    "json_rdd_media = json_rdd.flatMap(lambda x: x['includes']['media']).map(lambda x: [x[\"media_key\"], x[\"type\"], x[\"url\"]] ).toDF([\"media_key\", \"type\", \"url\"])\n",
    "json_rdd_media.show(10)"
   ]
  },
  {
   "cell_type": "code",
   "execution_count": null,
   "metadata": {},
   "outputs": [],
   "source": [
    "\n"
   ]
  },
  {
   "cell_type": "markdown",
   "metadata": {},
   "source": []
  }
 ],
 "metadata": {
  "kernelspec": {
   "display_name": "Python 3",
   "language": "python",
   "name": "python3"
  },
  "language_info": {
   "codemirror_mode": {
    "name": "ipython",
    "version": 3
   },
   "file_extension": ".py",
   "mimetype": "text/x-python",
   "name": "python",
   "nbconvert_exporter": "python",
   "pygments_lexer": "ipython3",
   "version": "3.9.15"
  },
  "orig_nbformat": 4
 },
 "nbformat": 4,
 "nbformat_minor": 2
}
